{
 "cells": [
  {
   "cell_type": "markdown",
   "metadata": {},
   "source": [
    "Open Machine Learning Course "
   ]
  },
  {
   "cell_type": "markdown",
   "metadata": {},
   "source": [
    "# <center> Home Task 1. Exploratory data analysis with Pandas\n",
    "## <center>Practice. Analyzing \"Titanic\" passengers\n",
    "\n",
    "**Fill in the missing code (\"You code here\")**"
   ]
  },
  {
   "cell_type": "code",
   "execution_count": 117,
   "metadata": {},
   "outputs": [],
   "source": [
    "import numpy as np\n",
    "import pandas as pd\n",
    "import matplotlib.pyplot as plt\n",
    "pd.set_option(\"display.precision\", 2)"
   ]
  },
  {
   "cell_type": "markdown",
   "metadata": {},
   "source": [
    "**Read data into a Pandas DataFrame**"
   ]
  },
  {
   "cell_type": "code",
   "execution_count": 118,
   "metadata": {},
   "outputs": [],
   "source": [
    "data = pd.read_csv(\"titanic_train.csv\", index_col=\"PassengerId\")"
   ]
  },
  {
   "cell_type": "markdown",
   "metadata": {},
   "source": [
    "**First 5 rows**"
   ]
  },
  {
   "cell_type": "code",
   "execution_count": 119,
   "metadata": {},
   "outputs": [
    {
     "data": {
      "text/plain": "             Survived  Pclass  \\\nPassengerId                     \n1                   0       3   \n2                   1       1   \n3                   1       3   \n4                   1       1   \n5                   0       3   \n\n                                                          Name     Sex   Age  \\\nPassengerId                                                                    \n1                                      Braund, Mr. Owen Harris    male  22.0   \n2            Cumings, Mrs. John Bradley (Florence Briggs Th...  female  38.0   \n3                                       Heikkinen, Miss. Laina  female  26.0   \n4                 Futrelle, Mrs. Jacques Heath (Lily May Peel)  female  35.0   \n5                                     Allen, Mr. William Henry    male  35.0   \n\n             SibSp  Parch            Ticket   Fare Cabin Embarked  \nPassengerId                                                        \n1                1      0         A/5 21171   7.25   NaN        S  \n2                1      0          PC 17599  71.28   C85        C  \n3                0      0  STON/O2. 3101282   7.92   NaN        S  \n4                1      0            113803  53.10  C123        S  \n5                0      0            373450   8.05   NaN        S  ",
      "text/html": "<div>\n<style scoped>\n    .dataframe tbody tr th:only-of-type {\n        vertical-align: middle;\n    }\n\n    .dataframe tbody tr th {\n        vertical-align: top;\n    }\n\n    .dataframe thead th {\n        text-align: right;\n    }\n</style>\n<table border=\"1\" class=\"dataframe\">\n  <thead>\n    <tr style=\"text-align: right;\">\n      <th></th>\n      <th>Survived</th>\n      <th>Pclass</th>\n      <th>Name</th>\n      <th>Sex</th>\n      <th>Age</th>\n      <th>SibSp</th>\n      <th>Parch</th>\n      <th>Ticket</th>\n      <th>Fare</th>\n      <th>Cabin</th>\n      <th>Embarked</th>\n    </tr>\n    <tr>\n      <th>PassengerId</th>\n      <th></th>\n      <th></th>\n      <th></th>\n      <th></th>\n      <th></th>\n      <th></th>\n      <th></th>\n      <th></th>\n      <th></th>\n      <th></th>\n      <th></th>\n    </tr>\n  </thead>\n  <tbody>\n    <tr>\n      <th>1</th>\n      <td>0</td>\n      <td>3</td>\n      <td>Braund, Mr. Owen Harris</td>\n      <td>male</td>\n      <td>22.0</td>\n      <td>1</td>\n      <td>0</td>\n      <td>A/5 21171</td>\n      <td>7.25</td>\n      <td>NaN</td>\n      <td>S</td>\n    </tr>\n    <tr>\n      <th>2</th>\n      <td>1</td>\n      <td>1</td>\n      <td>Cumings, Mrs. John Bradley (Florence Briggs Th...</td>\n      <td>female</td>\n      <td>38.0</td>\n      <td>1</td>\n      <td>0</td>\n      <td>PC 17599</td>\n      <td>71.28</td>\n      <td>C85</td>\n      <td>C</td>\n    </tr>\n    <tr>\n      <th>3</th>\n      <td>1</td>\n      <td>3</td>\n      <td>Heikkinen, Miss. Laina</td>\n      <td>female</td>\n      <td>26.0</td>\n      <td>0</td>\n      <td>0</td>\n      <td>STON/O2. 3101282</td>\n      <td>7.92</td>\n      <td>NaN</td>\n      <td>S</td>\n    </tr>\n    <tr>\n      <th>4</th>\n      <td>1</td>\n      <td>1</td>\n      <td>Futrelle, Mrs. Jacques Heath (Lily May Peel)</td>\n      <td>female</td>\n      <td>35.0</td>\n      <td>1</td>\n      <td>0</td>\n      <td>113803</td>\n      <td>53.10</td>\n      <td>C123</td>\n      <td>S</td>\n    </tr>\n    <tr>\n      <th>5</th>\n      <td>0</td>\n      <td>3</td>\n      <td>Allen, Mr. William Henry</td>\n      <td>male</td>\n      <td>35.0</td>\n      <td>0</td>\n      <td>0</td>\n      <td>373450</td>\n      <td>8.05</td>\n      <td>NaN</td>\n      <td>S</td>\n    </tr>\n  </tbody>\n</table>\n</div>"
     },
     "execution_count": 119,
     "metadata": {},
     "output_type": "execute_result"
    }
   ],
   "source": [
    "data.head(5)"
   ]
  },
  {
   "cell_type": "code",
   "execution_count": 120,
   "metadata": {},
   "outputs": [
    {
     "data": {
      "text/plain": "       Survived  Pclass     Age   SibSp   Parch    Fare\ncount    891.00  891.00  714.00  891.00  891.00  891.00\nmean       0.38    2.31   29.70    0.52    0.38   32.20\nstd        0.49    0.84   14.53    1.10    0.81   49.69\nmin        0.00    1.00    0.42    0.00    0.00    0.00\n25%        0.00    2.00   20.12    0.00    0.00    7.91\n50%        0.00    3.00   28.00    0.00    0.00   14.45\n75%        1.00    3.00   38.00    1.00    0.00   31.00\nmax        1.00    3.00   80.00    8.00    6.00  512.33",
      "text/html": "<div>\n<style scoped>\n    .dataframe tbody tr th:only-of-type {\n        vertical-align: middle;\n    }\n\n    .dataframe tbody tr th {\n        vertical-align: top;\n    }\n\n    .dataframe thead th {\n        text-align: right;\n    }\n</style>\n<table border=\"1\" class=\"dataframe\">\n  <thead>\n    <tr style=\"text-align: right;\">\n      <th></th>\n      <th>Survived</th>\n      <th>Pclass</th>\n      <th>Age</th>\n      <th>SibSp</th>\n      <th>Parch</th>\n      <th>Fare</th>\n    </tr>\n  </thead>\n  <tbody>\n    <tr>\n      <th>count</th>\n      <td>891.00</td>\n      <td>891.00</td>\n      <td>714.00</td>\n      <td>891.00</td>\n      <td>891.00</td>\n      <td>891.00</td>\n    </tr>\n    <tr>\n      <th>mean</th>\n      <td>0.38</td>\n      <td>2.31</td>\n      <td>29.70</td>\n      <td>0.52</td>\n      <td>0.38</td>\n      <td>32.20</td>\n    </tr>\n    <tr>\n      <th>std</th>\n      <td>0.49</td>\n      <td>0.84</td>\n      <td>14.53</td>\n      <td>1.10</td>\n      <td>0.81</td>\n      <td>49.69</td>\n    </tr>\n    <tr>\n      <th>min</th>\n      <td>0.00</td>\n      <td>1.00</td>\n      <td>0.42</td>\n      <td>0.00</td>\n      <td>0.00</td>\n      <td>0.00</td>\n    </tr>\n    <tr>\n      <th>25%</th>\n      <td>0.00</td>\n      <td>2.00</td>\n      <td>20.12</td>\n      <td>0.00</td>\n      <td>0.00</td>\n      <td>7.91</td>\n    </tr>\n    <tr>\n      <th>50%</th>\n      <td>0.00</td>\n      <td>3.00</td>\n      <td>28.00</td>\n      <td>0.00</td>\n      <td>0.00</td>\n      <td>14.45</td>\n    </tr>\n    <tr>\n      <th>75%</th>\n      <td>1.00</td>\n      <td>3.00</td>\n      <td>38.00</td>\n      <td>1.00</td>\n      <td>0.00</td>\n      <td>31.00</td>\n    </tr>\n    <tr>\n      <th>max</th>\n      <td>1.00</td>\n      <td>3.00</td>\n      <td>80.00</td>\n      <td>8.00</td>\n      <td>6.00</td>\n      <td>512.33</td>\n    </tr>\n  </tbody>\n</table>\n</div>"
     },
     "execution_count": 120,
     "metadata": {},
     "output_type": "execute_result"
    }
   ],
   "source": [
    "data.describe()"
   ]
  },
  {
   "cell_type": "markdown",
   "metadata": {},
   "source": [
    "**Let's select those passengers who embarked in Cherbourg (Embarked=C) and paid > 200 pounds for their ticker (fare > 200).**\n",
    "\n",
    "Make sure you understand how actually this construction works."
   ]
  },
  {
   "cell_type": "code",
   "execution_count": 121,
   "metadata": {},
   "outputs": [
    {
     "data": {
      "text/plain": "             Survived  Pclass  \\\nPassengerId                     \n119                 0       1   \n259                 1       1   \n300                 1       1   \n312                 1       1   \n378                 0       1   \n\n                                                        Name     Sex   Age  \\\nPassengerId                                                                  \n119                                 Baxter, Mr. Quigg Edmond    male  24.0   \n259                                         Ward, Miss. Anna  female  35.0   \n300          Baxter, Mrs. James (Helene DeLaudeniere Chaput)  female  50.0   \n312                               Ryerson, Miss. Emily Borie  female  18.0   \n378                                Widener, Mr. Harry Elkins    male  27.0   \n\n             SibSp  Parch    Ticket    Fare            Cabin Embarked  \nPassengerId                                                            \n119              0      1  PC 17558  247.52          B58 B60        C  \n259              0      0  PC 17755  512.33              NaN        C  \n300              0      1  PC 17558  247.52          B58 B60        C  \n312              2      2  PC 17608  262.38  B57 B59 B63 B66        C  \n378              0      2    113503  211.50              C82        C  ",
      "text/html": "<div>\n<style scoped>\n    .dataframe tbody tr th:only-of-type {\n        vertical-align: middle;\n    }\n\n    .dataframe tbody tr th {\n        vertical-align: top;\n    }\n\n    .dataframe thead th {\n        text-align: right;\n    }\n</style>\n<table border=\"1\" class=\"dataframe\">\n  <thead>\n    <tr style=\"text-align: right;\">\n      <th></th>\n      <th>Survived</th>\n      <th>Pclass</th>\n      <th>Name</th>\n      <th>Sex</th>\n      <th>Age</th>\n      <th>SibSp</th>\n      <th>Parch</th>\n      <th>Ticket</th>\n      <th>Fare</th>\n      <th>Cabin</th>\n      <th>Embarked</th>\n    </tr>\n    <tr>\n      <th>PassengerId</th>\n      <th></th>\n      <th></th>\n      <th></th>\n      <th></th>\n      <th></th>\n      <th></th>\n      <th></th>\n      <th></th>\n      <th></th>\n      <th></th>\n      <th></th>\n    </tr>\n  </thead>\n  <tbody>\n    <tr>\n      <th>119</th>\n      <td>0</td>\n      <td>1</td>\n      <td>Baxter, Mr. Quigg Edmond</td>\n      <td>male</td>\n      <td>24.0</td>\n      <td>0</td>\n      <td>1</td>\n      <td>PC 17558</td>\n      <td>247.52</td>\n      <td>B58 B60</td>\n      <td>C</td>\n    </tr>\n    <tr>\n      <th>259</th>\n      <td>1</td>\n      <td>1</td>\n      <td>Ward, Miss. Anna</td>\n      <td>female</td>\n      <td>35.0</td>\n      <td>0</td>\n      <td>0</td>\n      <td>PC 17755</td>\n      <td>512.33</td>\n      <td>NaN</td>\n      <td>C</td>\n    </tr>\n    <tr>\n      <th>300</th>\n      <td>1</td>\n      <td>1</td>\n      <td>Baxter, Mrs. James (Helene DeLaudeniere Chaput)</td>\n      <td>female</td>\n      <td>50.0</td>\n      <td>0</td>\n      <td>1</td>\n      <td>PC 17558</td>\n      <td>247.52</td>\n      <td>B58 B60</td>\n      <td>C</td>\n    </tr>\n    <tr>\n      <th>312</th>\n      <td>1</td>\n      <td>1</td>\n      <td>Ryerson, Miss. Emily Borie</td>\n      <td>female</td>\n      <td>18.0</td>\n      <td>2</td>\n      <td>2</td>\n      <td>PC 17608</td>\n      <td>262.38</td>\n      <td>B57 B59 B63 B66</td>\n      <td>C</td>\n    </tr>\n    <tr>\n      <th>378</th>\n      <td>0</td>\n      <td>1</td>\n      <td>Widener, Mr. Harry Elkins</td>\n      <td>male</td>\n      <td>27.0</td>\n      <td>0</td>\n      <td>2</td>\n      <td>113503</td>\n      <td>211.50</td>\n      <td>C82</td>\n      <td>C</td>\n    </tr>\n  </tbody>\n</table>\n</div>"
     },
     "execution_count": 121,
     "metadata": {},
     "output_type": "execute_result"
    }
   ],
   "source": [
    "data[(data[\"Embarked\"] == \"C\") & (data.Fare > 200)].head()"
   ]
  },
  {
   "cell_type": "markdown",
   "metadata": {},
   "source": [
    "**We can sort these people by Fare in descending order.**"
   ]
  },
  {
   "cell_type": "code",
   "execution_count": 122,
   "metadata": {},
   "outputs": [
    {
     "data": {
      "text/plain": "             Survived  Pclass                                   Name     Sex  \\\nPassengerId                                                                    \n259                 1       1                       Ward, Miss. Anna  female   \n680                 1       1     Cardeza, Mr. Thomas Drake Martinez    male   \n738                 1       1                 Lesurer, Mr. Gustave J    male   \n312                 1       1             Ryerson, Miss. Emily Borie  female   \n743                 1       1  Ryerson, Miss. Susan Parker \"Suzette\"  female   \n\n              Age  SibSp  Parch    Ticket    Fare            Cabin Embarked  \nPassengerId                                                                  \n259          35.0      0      0  PC 17755  512.33              NaN        C  \n680          36.0      0      1  PC 17755  512.33      B51 B53 B55        C  \n738          35.0      0      0  PC 17755  512.33             B101        C  \n312          18.0      2      2  PC 17608  262.38  B57 B59 B63 B66        C  \n743          21.0      2      2  PC 17608  262.38  B57 B59 B63 B66        C  ",
      "text/html": "<div>\n<style scoped>\n    .dataframe tbody tr th:only-of-type {\n        vertical-align: middle;\n    }\n\n    .dataframe tbody tr th {\n        vertical-align: top;\n    }\n\n    .dataframe thead th {\n        text-align: right;\n    }\n</style>\n<table border=\"1\" class=\"dataframe\">\n  <thead>\n    <tr style=\"text-align: right;\">\n      <th></th>\n      <th>Survived</th>\n      <th>Pclass</th>\n      <th>Name</th>\n      <th>Sex</th>\n      <th>Age</th>\n      <th>SibSp</th>\n      <th>Parch</th>\n      <th>Ticket</th>\n      <th>Fare</th>\n      <th>Cabin</th>\n      <th>Embarked</th>\n    </tr>\n    <tr>\n      <th>PassengerId</th>\n      <th></th>\n      <th></th>\n      <th></th>\n      <th></th>\n      <th></th>\n      <th></th>\n      <th></th>\n      <th></th>\n      <th></th>\n      <th></th>\n      <th></th>\n    </tr>\n  </thead>\n  <tbody>\n    <tr>\n      <th>259</th>\n      <td>1</td>\n      <td>1</td>\n      <td>Ward, Miss. Anna</td>\n      <td>female</td>\n      <td>35.0</td>\n      <td>0</td>\n      <td>0</td>\n      <td>PC 17755</td>\n      <td>512.33</td>\n      <td>NaN</td>\n      <td>C</td>\n    </tr>\n    <tr>\n      <th>680</th>\n      <td>1</td>\n      <td>1</td>\n      <td>Cardeza, Mr. Thomas Drake Martinez</td>\n      <td>male</td>\n      <td>36.0</td>\n      <td>0</td>\n      <td>1</td>\n      <td>PC 17755</td>\n      <td>512.33</td>\n      <td>B51 B53 B55</td>\n      <td>C</td>\n    </tr>\n    <tr>\n      <th>738</th>\n      <td>1</td>\n      <td>1</td>\n      <td>Lesurer, Mr. Gustave J</td>\n      <td>male</td>\n      <td>35.0</td>\n      <td>0</td>\n      <td>0</td>\n      <td>PC 17755</td>\n      <td>512.33</td>\n      <td>B101</td>\n      <td>C</td>\n    </tr>\n    <tr>\n      <th>312</th>\n      <td>1</td>\n      <td>1</td>\n      <td>Ryerson, Miss. Emily Borie</td>\n      <td>female</td>\n      <td>18.0</td>\n      <td>2</td>\n      <td>2</td>\n      <td>PC 17608</td>\n      <td>262.38</td>\n      <td>B57 B59 B63 B66</td>\n      <td>C</td>\n    </tr>\n    <tr>\n      <th>743</th>\n      <td>1</td>\n      <td>1</td>\n      <td>Ryerson, Miss. Susan Parker \"Suzette\"</td>\n      <td>female</td>\n      <td>21.0</td>\n      <td>2</td>\n      <td>2</td>\n      <td>PC 17608</td>\n      <td>262.38</td>\n      <td>B57 B59 B63 B66</td>\n      <td>C</td>\n    </tr>\n  </tbody>\n</table>\n</div>"
     },
     "execution_count": 122,
     "metadata": {},
     "output_type": "execute_result"
    }
   ],
   "source": [
    "data[(data[\"Embarked\"] == \"C\") & (data[\"Fare\"] > 200)].sort_values(\n",
    "    by=\"Fare\", ascending=False\n",
    ").head()"
   ]
  },
  {
   "cell_type": "markdown",
   "metadata": {},
   "source": [
    "**Let's create a new feature.**"
   ]
  },
  {
   "cell_type": "code",
   "execution_count": 123,
   "metadata": {},
   "outputs": [],
   "source": [
    "def age_category(age):\n",
    "    \"\"\"\n",
    "    < 30 -> 1\n",
    "    >= 30, <55 -> 2\n",
    "    >= 55 -> 3\n",
    "    \"\"\"\n",
    "    if age < 30:\n",
    "        return 1\n",
    "    elif age < 55:\n",
    "        return 2\n",
    "    elif age >= 55:\n",
    "        return 3"
   ]
  },
  {
   "cell_type": "code",
   "execution_count": 124,
   "metadata": {},
   "outputs": [],
   "source": [
    "age_categories = [age_category(age) for age in data.Age]\n",
    "data[\"Age_category\"] = age_categories"
   ]
  },
  {
   "cell_type": "markdown",
   "metadata": {},
   "source": [
    "**Another way is to do it with `apply`.**"
   ]
  },
  {
   "cell_type": "code",
   "execution_count": 125,
   "metadata": {},
   "outputs": [],
   "source": [
    "data[\"Age_category\"] = data[\"Age\"].apply(age_category)"
   ]
  },
  {
   "cell_type": "markdown",
   "metadata": {},
   "source": [
    "**1. How many men/women were there onboard?**"
   ]
  },
  {
   "cell_type": "code",
   "execution_count": 126,
   "metadata": {},
   "outputs": [
    {
     "name": "stdout",
     "output_type": "stream",
     "text": [
      "men_count=577\n",
      "women_count=314\n"
     ]
    }
   ],
   "source": [
    "# You code here\n",
    "male_pattern = (data['Sex'] == 'male')\n",
    "female_pattern = (data['Sex'] == 'female')\n",
    "\n",
    "men_count = len(data[male_pattern])\n",
    "women_count = len(data[female_pattern])\n",
    "\n",
    "print(f'{men_count=}')\n",
    "print(f'{women_count=}')"
   ]
  },
  {
   "cell_type": "markdown",
   "metadata": {},
   "source": [
    "    **2. Print the distribution of the `Pclass` feature. Then the same, but for men and women separately. How many men from second class were there onboard?**"
   ]
  },
  {
   "cell_type": "code",
   "execution_count": 127,
   "metadata": {},
   "outputs": [
    {
     "name": "stdout",
     "output_type": "stream",
     "text": [
      "class2_men=108\n"
     ]
    },
    {
     "data": {
      "text/plain": "<Figure size 864x288 with 2 Axes>",
      "image/png": "[encoded data removed]"
     },
     "metadata": {
      "needs_background": "light"
     },
     "output_type": "display_data"
    }
   ],
   "source": [
    "# You code here\n",
    "from matplotlib import figure\n",
    "\n",
    "# Distribution of the 'Pclass'\n",
    "fig, (ax1, ax2) = plt.subplots(1, 2, figsize=(12, 4))\n",
    "fig.suptitle('Distribution of the Pclass')\n",
    "\n",
    "ax1.hist(\n",
    "    data['Pclass'],\n",
    "    color='gray',\n",
    "    label='both'\n",
    ")\n",
    "\n",
    "# Distributions of the 'Pclass' separately for men and women\n",
    "ax2.hist(\n",
    "    data[male_pattern]['Pclass'],\n",
    "    color='blue',\n",
    "    label='male'\n",
    ")\n",
    "ax2.hist(\n",
    "    data[female_pattern]['Pclass'],\n",
    "    color='pink',\n",
    "    label='female'\n",
    ")\n",
    "\n",
    "fig.legend(loc='upper left')\n",
    "\n",
    "\n",
    "# Amount of men from the second class onboard\n",
    "class2_men = len(data[ male_pattern & (data['Pclass'] == 2) ])\n",
    "print(f'{class2_men=}')"
   ]
  },
  {
   "cell_type": "markdown",
   "metadata": {},
   "source": [
    "**3. What are median and standard deviation of `Fare`?. Round to two decimals.**"
   ]
  },
  {
   "cell_type": "code",
   "execution_count": 128,
   "metadata": {},
   "outputs": [
    {
     "name": "stdout",
     "output_type": "stream",
     "text": [
      "fare_median=14.45\n",
      "fare_std=49.69\n"
     ]
    }
   ],
   "source": [
    "fare_median = data['Fare'].median()\n",
    "fare_std = data['Fare'].std()\n",
    "\n",
    "print(f'{fare_median=:.2f}')\n",
    "print(f'{fare_std=:.2f}')"
   ]
  },
  {
   "cell_type": "markdown",
   "metadata": {},
   "source": [
    "**4. Is that true that the mean age of survived people is higher than that of passengers who eventually died?**"
   ]
  },
  {
   "cell_type": "code",
   "execution_count": 129,
   "metadata": {},
   "outputs": [
    {
     "name": "stdout",
     "output_type": "stream",
     "text": [
      "mean_survived=28.34\n",
      "mean_died=30.63\n",
      "Answer: False\n"
     ]
    }
   ],
   "source": [
    "# You code here\n",
    "survived_pattern = (data['Survived'] == 1)\n",
    "died_pattern = (data['Survived'] == 0)\n",
    "\n",
    "mean_survived = data[survived_pattern]['Age'].mean()\n",
    "mean_died = data[died_pattern]['Age'].mean()\n",
    "\n",
    "print(f'{mean_survived=:.2f}')\n",
    "print(f'{mean_died=:.2f}')\n",
    "print(f'Answer: {mean_survived > mean_died}')"
   ]
  },
  {
   "cell_type": "markdown",
   "metadata": {},
   "source": [
    "**5. Is that true that passengers younger than 30 y.o. survived more frequently than those older than 60 y.o.? What are shares of survived people among young and old people?**"
   ]
  },
  {
   "cell_type": "code",
   "execution_count": 137,
   "metadata": {},
   "outputs": [
    {
     "name": "stdout",
     "output_type": "stream",
     "text": [
      "Answer: True\n",
      "young_survived_share=40.62%\n",
      "old_survived_share=22.73%\n"
     ]
    }
   ],
   "source": [
    "# You code here\n",
    "young_pattern = data['Age'] < 30\n",
    "old_pattern = data['Age'] > 60\n",
    "\n",
    "young_survived = len(data[young_pattern & survived_pattern])\n",
    "young_survived_share = young_survived / len(data[young_pattern])\n",
    "\n",
    "old_survived = len(data[old_pattern & survived_pattern])\n",
    "old_survived_share = old_survived / len(data[old_pattern])\n",
    "\n",
    "print(f'Answer: {young_survived_share > old_survived_share}')\n",
    "\n",
    "print(f'{young_survived_share=:.2%}')\n",
    "print(f'{old_survived_share=:.2%}')"
   ]
  },
  {
   "cell_type": "markdown",
   "metadata": {},
   "source": [
    "**6. Is that true that women survived more frequently than men? What are shares of survived people among men and women?**"
   ]
  },
  {
   "cell_type": "code",
   "execution_count": 144,
   "metadata": {},
   "outputs": [
    {
     "name": "stdout",
     "output_type": "stream",
     "text": [
      "Answer: True\n",
      "men_survived_share=18.89%\n",
      "women_survived_share=74.20%\n"
     ]
    }
   ],
   "source": [
    "# You code here\n",
    "men_survived = len(data[male_pattern & survived_pattern])\n",
    "men_survived_share = men_survived / len(data[male_pattern])\n",
    "\n",
    "women_survived = len(data[female_pattern & survived_pattern])\n",
    "women_survived_share = women_survived / len(data[female_pattern])\n",
    "\n",
    "print(f'Answer: {women_survived_share > men_survived_share}')\n",
    "print(f'{men_survived_share=:.2%}')\n",
    "print(f'{women_survived_share=:.2%}')"
   ]
  },
  {
   "cell_type": "markdown",
   "metadata": {},
   "source": [
    "**7. What's the most popular first name among male passengers?**"
   ]
  },
  {
   "cell_type": "code",
   "execution_count": 165,
   "metadata": {},
   "outputs": [
    {
     "name": "stdout",
     "output_type": "stream",
     "text": [
      "most_popular_male_name='William'\n"
     ]
    }
   ],
   "source": [
    "# You code here\n",
    "data['First_name'] = data['Name'].apply(\n",
    "    lambda name: name.split(',')[1].split()[1]\n",
    ")\n",
    "most_popular_male_name = data[male_pattern]['First_name'].mode()[0]\n",
    "\n",
    "print(f'{most_popular_male_name=}')"
   ]
  },
  {
   "cell_type": "markdown",
   "metadata": {},
   "source": [
    "**8. How is average age for men/women dependent on `Pclass`? Choose all correct statements:**"
   ]
  },
  {
   "cell_type": "code",
   "execution_count": 239,
   "metadata": {},
   "outputs": [
    {
     "name": "stdout",
     "output_type": "stream",
     "text": [
      "Pclass 1:\n",
      "\tmean_men_age=41.28\n",
      "\tmean_women_age=34.61\n",
      "Pclass 2:\n",
      "\tmean_men_age=30.74\n",
      "\tmean_women_age=28.72\n",
      "Pclass 3:\n",
      "\tmean_men_age=26.51\n",
      "\tmean_women_age=21.75\n"
     ]
    }
   ],
   "source": [
    "# You code here\n",
    "# Which statements? ;d\n",
    "\n",
    "for pclass in sorted(data['Pclass'].unique()):\n",
    "    print(f'Pclass {pclass}:')\n",
    "\n",
    "    mean_men_age = data[ male_pattern & (data['Pclass'] == pclass )]['Age'].mean()\n",
    "    mean_women_age = data[ female_pattern & (data['Pclass'] == pclass )]['Age'].mean()\n",
    "\n",
    "    print(f'\\t{mean_men_age=:.2f}')\n",
    "    print(f'\\t{mean_women_age=:.2f}')\n"
   ]
  },
  {
   "cell_type": "code",
   "execution_count": null,
   "outputs": [],
   "source": [],
   "metadata": {
    "collapsed": false,
    "pycharm": {
     "name": "#%%\n"
    }
   }
  },
  {
   "cell_type": "markdown",
   "metadata": {},
   "source": []
  }
 ],
 "metadata": {
  "anaconda-cloud": {},
  "kernelspec": {
   "display_name": "Python 3 (ipykernel)",
   "language": "python",
   "name": "python3"
  },
  "language_info": {
   "codemirror_mode": {
    "name": "ipython",
    "version": 3
   },
   "file_extension": ".py",
   "mimetype": "text/x-python",
   "name": "python",
   "nbconvert_exporter": "python",
   "pygments_lexer": "ipython3",
   "version": "3.10.2"
  },
  "name": "seminar02_practice_pandas_titanic.ipynb"
 },
 "nbformat": 4,
 "nbformat_minor": 4
}