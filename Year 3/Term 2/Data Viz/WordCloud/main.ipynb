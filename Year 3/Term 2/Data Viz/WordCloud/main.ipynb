{
 "cells": [
  {
   "cell_type": "code",
   "execution_count": 44,
   "metadata": {
    "collapsed": true
   },
   "outputs": [],
   "source": [
    "import pandas as pd\n",
    "import re"
   ]
  },
  {
   "cell_type": "code",
   "execution_count": 36,
   "outputs": [],
   "source": [
    "df = pd.read_csv(\"metacritic_game_user_comments.csv\")"
   ],
   "metadata": {
    "collapsed": false,
    "pycharm": {
     "name": "#%%\n"
    }
   }
  },
  {
   "cell_type": "code",
   "execution_count": 37,
   "outputs": [
    {
     "data": {
      "text/plain": "   Unnamed: 0                                 Title    Platform  Userscore  \\\n0         0.0  The Legend of Zelda: Ocarina of Time  Nintendo64       10.0   \n1         1.0  The Legend of Zelda: Ocarina of Time  Nintendo64       10.0   \n2         2.0  The Legend of Zelda: Ocarina of Time  Nintendo64       10.0   \n3         3.0  The Legend of Zelda: Ocarina of Time  Nintendo64       10.0   \n4         4.0  The Legend of Zelda: Ocarina of Time  Nintendo64       10.0   \n\n                                             Comment    Username  \n0  Everything in OoT is so near at perfection, it...  SirCaestus  \n1  I won't bore you with what everyone is already...    Kaistlin  \n2  Anyone who gives the masterpiece below a 7 or ...      Jacody  \n3  I'm one of those people who think that this is...  doodlerman  \n4   This game is the highest rated game on Metacr...     StevenA  ",
      "text/html": "<div>\n<style scoped>\n    .dataframe tbody tr th:only-of-type {\n        vertical-align: middle;\n    }\n\n    .dataframe tbody tr th {\n        vertical-align: top;\n    }\n\n    .dataframe thead th {\n        text-align: right;\n    }\n</style>\n<table border=\"1\" class=\"dataframe\">\n  <thead>\n    <tr style=\"text-align: right;\">\n      <th></th>\n      <th>Unnamed: 0</th>\n      <th>Title</th>\n      <th>Platform</th>\n      <th>Userscore</th>\n      <th>Comment</th>\n      <th>Username</th>\n    </tr>\n  </thead>\n  <tbody>\n    <tr>\n      <th>0</th>\n      <td>0.0</td>\n      <td>The Legend of Zelda: Ocarina of Time</td>\n      <td>Nintendo64</td>\n      <td>10.0</td>\n      <td>Everything in OoT is so near at perfection, it...</td>\n      <td>SirCaestus</td>\n    </tr>\n    <tr>\n      <th>1</th>\n      <td>1.0</td>\n      <td>The Legend of Zelda: Ocarina of Time</td>\n      <td>Nintendo64</td>\n      <td>10.0</td>\n      <td>I won't bore you with what everyone is already...</td>\n      <td>Kaistlin</td>\n    </tr>\n    <tr>\n      <th>2</th>\n      <td>2.0</td>\n      <td>The Legend of Zelda: Ocarina of Time</td>\n      <td>Nintendo64</td>\n      <td>10.0</td>\n      <td>Anyone who gives the masterpiece below a 7 or ...</td>\n      <td>Jacody</td>\n    </tr>\n    <tr>\n      <th>3</th>\n      <td>3.0</td>\n      <td>The Legend of Zelda: Ocarina of Time</td>\n      <td>Nintendo64</td>\n      <td>10.0</td>\n      <td>I'm one of those people who think that this is...</td>\n      <td>doodlerman</td>\n    </tr>\n    <tr>\n      <th>4</th>\n      <td>4.0</td>\n      <td>The Legend of Zelda: Ocarina of Time</td>\n      <td>Nintendo64</td>\n      <td>10.0</td>\n      <td>This game is the highest rated game on Metacr...</td>\n      <td>StevenA</td>\n    </tr>\n  </tbody>\n</table>\n</div>"
     },
     "execution_count": 37,
     "metadata": {},
     "output_type": "execute_result"
    }
   ],
   "source": [
    "# The legend of Zelda: Ocarina of Time\n",
    "df_loz_oot = df.where(df['Title'] == 'The Legend of Zelda: Ocarina of Time')\n",
    "df_loz_oot.head()\n",
    "# len(df)"
   ],
   "metadata": {
    "collapsed": false,
    "pycharm": {
     "name": "#%%\n"
    }
   }
  },
  {
   "cell_type": "code",
   "execution_count": 38,
   "outputs": [],
   "source": [
    "all_comments = \"\"\n",
    "for comment in df_loz_oot['Comment']:\n",
    "    all_comments += str(comment)"
   ],
   "metadata": {
    "collapsed": false,
    "pycharm": {
     "name": "#%%\n"
    }
   }
  },
  {
   "cell_type": "code",
   "execution_count": 39,
   "outputs": [],
   "source": [
    "comments_list = all_comments.split(' ')"
   ],
   "metadata": {
    "collapsed": false,
    "pycharm": {
     "name": "#%%\n"
    }
   }
  },
  {
   "cell_type": "code",
   "execution_count": null,
   "outputs": [],
   "source": [
    "for i in range(len(comments_list)):\n",
    "    comments_list[i] = comments_list[i].lower()"
   ],
   "metadata": {
    "collapsed": false,
    "pycharm": {
     "name": "#%%\n",
     "is_executing": true
    }
   }
  },
  {
   "cell_type": "code",
   "execution_count": 45,
   "outputs": [],
   "source": [
    "comments_list = [re.sub('[^a-z0-9]+', '', _) for _ in comments_list]"
   ],
   "metadata": {
    "collapsed": false,
    "pycharm": {
     "name": "#%%\n"
    }
   }
  },
  {
   "cell_type": "code",
   "execution_count": 47,
   "outputs": [
    {
     "name": "stdout",
     "output_type": "stream",
     "text": [
      "86823\n"
     ]
    }
   ],
   "source": [
    "print(len(comments_list))"
   ],
   "metadata": {
    "collapsed": false,
    "pycharm": {
     "name": "#%%\n"
    }
   }
  },
  {
   "cell_type": "code",
   "execution_count": 64,
   "outputs": [],
   "source": [
    "set_of_words = set(comments_list)\n",
    "list_of_words = list(set_of_words)"
   ],
   "metadata": {
    "collapsed": false,
    "pycharm": {
     "name": "#%%\n"
    }
   }
  },
  {
   "cell_type": "code",
   "execution_count": 68,
   "outputs": [],
   "source": [
    "list_of_words_count = []"
   ],
   "metadata": {
    "collapsed": false,
    "pycharm": {
     "name": "#%%\n"
    }
   }
  },
  {
   "cell_type": "code",
   "execution_count": 69,
   "outputs": [],
   "source": [
    "for word in list_of_words:\n",
    "    list_of_words_count.append(comments_list.count(word))"
   ],
   "metadata": {
    "collapsed": false,
    "pycharm": {
     "name": "#%%\n"
    }
   }
  },
  {
   "cell_type": "code",
   "execution_count": 70,
   "outputs": [
    {
     "name": "stdout",
     "output_type": "stream",
     "text": [
      "6805\n",
      "6805\n"
     ]
    }
   ],
   "source": [
    "print(len(list_of_words))\n",
    "print(len(list_of_words_count))"
   ],
   "metadata": {
    "collapsed": false,
    "pycharm": {
     "name": "#%%\n"
    }
   }
  },
  {
   "cell_type": "code",
   "execution_count": 71,
   "outputs": [],
   "source": [
    "data_dict = {\n",
    "    'weight': list_of_words_count,\n",
    "    'word': list_of_words\n",
    "}"
   ],
   "metadata": {
    "collapsed": false,
    "pycharm": {
     "name": "#%%\n"
    }
   }
  },
  {
   "cell_type": "code",
   "execution_count": 100,
   "outputs": [],
   "source": [
    "df_wcd = pd.DataFrame(data_dict)"
   ],
   "metadata": {
    "collapsed": false,
    "pycharm": {
     "name": "#%%\n"
    }
   }
  },
  {
   "cell_type": "code",
   "execution_count": 101,
   "outputs": [],
   "source": [
    "df_wcd_sorted = df_wcd.sort_values(by=['weight'], ascending=False).reset_index(drop=True)"
   ],
   "metadata": {
    "collapsed": false,
    "pycharm": {
     "name": "#%%\n"
    }
   }
  },
  {
   "cell_type": "code",
   "execution_count": 105,
   "outputs": [
    {
     "data": {
      "text/plain": "     weight  word\n0      4821   the\n1      2768  game\n2      2493   and\n3      2406    of\n4      1997    is\n..      ...   ...\n195      57  came\n196      57   may\n197      56  beat\n198      55  boss\n199      55  look\n\n[200 rows x 2 columns]",
      "text/html": "<div>\n<style scoped>\n    .dataframe tbody tr th:only-of-type {\n        vertical-align: middle;\n    }\n\n    .dataframe tbody tr th {\n        vertical-align: top;\n    }\n\n    .dataframe thead th {\n        text-align: right;\n    }\n</style>\n<table border=\"1\" class=\"dataframe\">\n  <thead>\n    <tr style=\"text-align: right;\">\n      <th></th>\n      <th>weight</th>\n      <th>word</th>\n    </tr>\n  </thead>\n  <tbody>\n    <tr>\n      <th>0</th>\n      <td>4821</td>\n      <td>the</td>\n    </tr>\n    <tr>\n      <th>1</th>\n      <td>2768</td>\n      <td>game</td>\n    </tr>\n    <tr>\n      <th>2</th>\n      <td>2493</td>\n      <td>and</td>\n    </tr>\n    <tr>\n      <th>3</th>\n      <td>2406</td>\n      <td>of</td>\n    </tr>\n    <tr>\n      <th>4</th>\n      <td>1997</td>\n      <td>is</td>\n    </tr>\n    <tr>\n      <th>...</th>\n      <td>...</td>\n      <td>...</td>\n    </tr>\n    <tr>\n      <th>195</th>\n      <td>57</td>\n      <td>came</td>\n    </tr>\n    <tr>\n      <th>196</th>\n      <td>57</td>\n      <td>may</td>\n    </tr>\n    <tr>\n      <th>197</th>\n      <td>56</td>\n      <td>beat</td>\n    </tr>\n    <tr>\n      <th>198</th>\n      <td>55</td>\n      <td>boss</td>\n    </tr>\n    <tr>\n      <th>199</th>\n      <td>55</td>\n      <td>look</td>\n    </tr>\n  </tbody>\n</table>\n<p>200 rows × 2 columns</p>\n</div>"
     },
     "execution_count": 105,
     "metadata": {},
     "output_type": "execute_result"
    }
   ],
   "source": [
    "df_wcd_sorted"
   ],
   "metadata": {
    "collapsed": false,
    "pycharm": {
     "name": "#%%\n"
    }
   }
  },
  {
   "cell_type": "code",
   "execution_count": 106,
   "outputs": [],
   "source": [
    "df_wcd_sorted = df_wcd_sorted[:200]"
   ],
   "metadata": {
    "collapsed": false,
    "pycharm": {
     "name": "#%%\n"
    }
   }
  },
  {
   "cell_type": "code",
   "execution_count": 107,
   "outputs": [
    {
     "data": {
      "text/plain": "     weight  word\n0      4821   the\n1      2768  game\n2      2493   and\n3      2406    of\n4      1997    is\n..      ...   ...\n195      57  came\n196      57   may\n197      56  beat\n198      55  boss\n199      55  look\n\n[200 rows x 2 columns]",
      "text/html": "<div>\n<style scoped>\n    .dataframe tbody tr th:only-of-type {\n        vertical-align: middle;\n    }\n\n    .dataframe tbody tr th {\n        vertical-align: top;\n    }\n\n    .dataframe thead th {\n        text-align: right;\n    }\n</style>\n<table border=\"1\" class=\"dataframe\">\n  <thead>\n    <tr style=\"text-align: right;\">\n      <th></th>\n      <th>weight</th>\n      <th>word</th>\n    </tr>\n  </thead>\n  <tbody>\n    <tr>\n      <th>0</th>\n      <td>4821</td>\n      <td>the</td>\n    </tr>\n    <tr>\n      <th>1</th>\n      <td>2768</td>\n      <td>game</td>\n    </tr>\n    <tr>\n      <th>2</th>\n      <td>2493</td>\n      <td>and</td>\n    </tr>\n    <tr>\n      <th>3</th>\n      <td>2406</td>\n      <td>of</td>\n    </tr>\n    <tr>\n      <th>4</th>\n      <td>1997</td>\n      <td>is</td>\n    </tr>\n    <tr>\n      <th>...</th>\n      <td>...</td>\n      <td>...</td>\n    </tr>\n    <tr>\n      <th>195</th>\n      <td>57</td>\n      <td>came</td>\n    </tr>\n    <tr>\n      <th>196</th>\n      <td>57</td>\n      <td>may</td>\n    </tr>\n    <tr>\n      <th>197</th>\n      <td>56</td>\n      <td>beat</td>\n    </tr>\n    <tr>\n      <th>198</th>\n      <td>55</td>\n      <td>boss</td>\n    </tr>\n    <tr>\n      <th>199</th>\n      <td>55</td>\n      <td>look</td>\n    </tr>\n  </tbody>\n</table>\n<p>200 rows × 2 columns</p>\n</div>"
     },
     "execution_count": 107,
     "metadata": {},
     "output_type": "execute_result"
    }
   ],
   "source": [
    "df_wcd_sorted"
   ],
   "metadata": {
    "collapsed": false,
    "pycharm": {
     "name": "#%%\n"
    }
   }
  },
  {
   "cell_type": "code",
   "execution_count": 108,
   "outputs": [],
   "source": [
    "df_wcd_sorted.to_csv(\"word_cloud_data.csv\", index=False, encoding='utf-8')"
   ],
   "metadata": {
    "collapsed": false,
    "pycharm": {
     "name": "#%%\n"
    }
   }
  },
  {
   "cell_type": "code",
   "execution_count": null,
   "outputs": [],
   "source": [],
   "metadata": {
    "collapsed": false,
    "pycharm": {
     "name": "#%%\n"
    }
   }
  }
 ],
 "metadata": {
  "kernelspec": {
   "display_name": "Python 3",
   "language": "python",
   "name": "python3"
  },
  "language_info": {
   "codemirror_mode": {
    "name": "ipython",
    "version": 2
   },
   "file_extension": ".py",
   "mimetype": "text/x-python",
   "name": "python",
   "nbconvert_exporter": "python",
   "pygments_lexer": "ipython2",
   "version": "2.7.6"
  }
 },
 "nbformat": 4,
 "nbformat_minor": 0
}