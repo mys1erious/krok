{
 "cells": [
  {
   "cell_type": "code",
   "execution_count": 1,
   "metadata": {},
   "outputs": [
    {
     "name": "stdout",
     "output_type": "stream",
     "text": [
      "i: 1\n",
      "a: 1.07294902    c: 1.42705098    d: 1.64589803    b: 2.00000000    |b-a|: 0.92705098    f(a): -2.77066867    f(c): -5.00135086    f(d): -5.09063598    f(b): 0.60000000\n",
      "\n",
      "i: 2\n",
      "a: 1.42705098    c: 1.64589803    d: 1.78115295    b: 2.00000000    |b-a|: 0.57294902    f(a): -5.00135086    f(c): -5.09063598    f(d): -4.03561858    f(b): 0.60000000\n",
      "\n",
      "i: 3\n",
      "a: 1.42705098    c: 1.56230590    d: 1.64589803    b: 1.78115295    |b-a|: 0.35410197    f(a): -5.00135086    f(c): -5.26458099    f(d): -5.09063598    f(b): -4.03561858\n",
      "\n",
      "i: 4\n",
      "a: 1.42705098    c: 1.51064312    d: 1.56230590    b: 1.64589803    |b-a|: 0.21884705    f(a): -5.00135086    f(c): -5.23199083    f(d): -5.26458099    f(b): -5.09063598\n",
      "\n",
      "i: 5\n",
      "a: 1.51064312    c: 1.56230590    d: 1.59423525    b: 1.64589803    |b-a|: 0.13525492    f(a): -5.23199083    f(c): -5.26458099    f(d): -5.23410631    f(b): -5.09063598\n",
      "\n",
      "i: 6\n",
      "a: 1.51064312    c: 1.54257247    d: 1.56230590    b: 1.59423525    |b-a|: 0.08359214    f(a): -5.23199083    f(c): -5.26342447    f(d): -5.26458099    f(b): -5.23410631\n",
      "\n",
      "i: 7\n",
      "a: 1.54257247    c: 1.56230590    d: 1.57450183    b: 1.59423525    |b-a|: 0.05166278    f(a): -5.26342447    f(c): -5.26458099    f(d): -5.25781883    f(b): -5.23410631\n",
      "\n",
      "i: 8\n",
      "a: 1.54257247    c: 1.55476840    d: 1.56230590    b: 1.57450183    |b-a|: 0.03192935    f(a): -5.26342447    f(c): -5.26586734    f(d): -5.26458099    f(b): -5.25781883\n",
      "\n",
      "i: 9\n",
      "a: 1.54257247    c: 1.55010997    d: 1.55476840    b: 1.56230590    |b-a|: 0.01973343    f(a): -5.26342447    f(c): -5.26558568    f(d): -5.26586734    f(b): -5.26458099\n",
      "\n",
      "i: 10\n",
      "a: 1.55010997    c: 1.55476840    d: 1.55764747    b: 1.56230590    |b-a|: 0.01219593    f(a): -5.26558568    f(c): -5.26586734    f(d): -5.26563222    f(b): -5.26458099\n",
      "\n",
      "i: 11\n",
      "a: 1.55010997    c: 1.55298904    d: 1.55476840    b: 1.55764747    |b-a|: 0.00753750    f(a): -5.26558568    f(c): -5.26585587    f(d): -5.26586734    f(b): -5.26563222\n",
      "\n",
      "i: 12\n",
      "a: 1.55298904    c: 1.55476840    d: 1.55586811    b: 1.55764747    |b-a|: 0.00465843    f(a): -5.26585587    f(c): -5.26586734    f(d): -5.26581466    f(b): -5.26563222\n",
      "\n",
      "i: 13\n",
      "a: 1.55298904    c: 1.55408874    d: 1.55476840    b: 1.55586811    |b-a|: 0.00287907    f(a): -5.26585587    f(c): -5.26587705    f(d): -5.26586734    f(b): -5.26581466\n",
      "\n",
      "i: 14\n",
      "a: 1.55298904    c: 1.55366869    d: 1.55408874    b: 1.55476840    |b-a|: 0.00177936    f(a): -5.26585587    f(c): -5.26587433    f(d): -5.26587705    f(b): -5.26586734\n",
      "\n",
      "i: 15\n",
      "a: 1.55366869    c: 1.55408874    d: 1.55434835    b: 1.55476840    |b-a|: 0.00109971    f(a): -5.26587433    f(c): -5.26587705    f(d): -5.26587540    f(b): -5.26586734\n",
      "\n",
      "i: 16\n",
      "a: 1.55366869    c: 1.55392830    d: 1.55408874    b: 1.55434835    |b-a|: 0.00067966    f(a): -5.26587433    f(c): -5.26587679    f(d): -5.26587705    f(b): -5.26587540\n",
      "\n",
      "x: 1.5539282998918738\n"
     ]
    },
    {
     "data": {
      "image/png": "[encoded data removed]",
      "text/plain": [
       "<Figure size 432x288 with 1 Axes>"
      ]
     },
     "metadata": {
      "needs_background": "light"
     },
     "output_type": "display_data"
    }
   ],
   "source": [
    "import math\n",
    "import matplotlib.pyplot as plt\n",
    "\n",
    "\n",
    "def f(x):\n",
    "    return x**5 - 4*x**3 + (1.5*x) / (1+x**2)\n",
    "\n",
    "\n",
    "def golden_section(a, b, e=10e-4):\n",
    "    f_a = f(a)\n",
    "    f_b = f(b)\n",
    "    r = (math.sqrt(5) - 1) / 2\n",
    "    c = a + (1-r) * (b-a)\n",
    "    f_c = f(c)\n",
    "    d = b - (1-r) * (b-a)\n",
    "    f_d = f(d)\n",
    "    i = 0\n",
    "    lst_e = []\n",
    "    while True:\n",
    "        lst_e.append(abs(b - a))\n",
    "        i+=1\n",
    "        if f_a == f_c == f_d or f_c == f_d == f_b:\n",
    "            break\n",
    "        elif f_c > f_d:\n",
    "            a = c\n",
    "            f_a = f_c\n",
    "            c = d\n",
    "            f_c = f_d\n",
    "            d = b - (1-r) * (b-a)\n",
    "            f_d = f(d)\n",
    "        else:\n",
    "            b = d\n",
    "            f_b = f(d)\n",
    "            d = c\n",
    "            f_d = f(c)\n",
    "            c = a + (1-r) * (b-a)\n",
    "            f_c = f(c)\n",
    "        print(f'i: {i}\\na: {a:.8f}    c: {c:.8f}    d: {d:.8f}    b: {b:.8f}    |b-a|: {abs(b - a):.8f}    '\n",
    "              f'f(a): {f_a:.8f}    f(c): {f_c:.8f}    f(d): {f_d:.8f}    f(b): {f_b:.8f}\\n')\n",
    "        if not abs(b-a) < e:\n",
    "            continue\n",
    "        else:\n",
    "            x = c\n",
    "            print(f'x: {x}')\n",
    "            return x, lst_e\n",
    "\n",
    "\n",
    "test = golden_section(0.5, 2)\n",
    "plt.plot(test[1])\n",
    "plt.title('log')\n",
    "plt.yscale('log')\n",
    "plt.show()"
   ]
  },
  {
   "cell_type": "code",
   "execution_count": null,
   "metadata": {},
   "outputs": [],
   "source": []
  }
 ],
 "metadata": {
  "kernelspec": {
   "display_name": "Python 3",
   "language": "python",
   "name": "python3"
  },
  "language_info": {
   "codemirror_mode": {
    "name": "ipython",
    "version": 3
   },
   "file_extension": ".py",
   "mimetype": "text/x-python",
   "name": "python",
   "nbconvert_exporter": "python",
   "pygments_lexer": "ipython3",
   "version": "3.8.3"
  }
 },
 "nbformat": 4,
 "nbformat_minor": 4
}
