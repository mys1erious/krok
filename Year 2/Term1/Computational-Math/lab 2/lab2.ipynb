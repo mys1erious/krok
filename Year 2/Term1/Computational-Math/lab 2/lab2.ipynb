{
 "cells": [
  {
   "cell_type": "code",
   "execution_count": 2,
   "metadata": {},
   "outputs": [
    {
     "name": "stdout",
     "output_type": "stream",
     "text": [
      "x-> 0.2\n",
      "e-> 1e-8\n",
      "k = 1    u = 0.06666667    sum = 1.06666667\n",
      "k = 2    u = 0.01200000    sum = 1.07866667\n",
      "k = 3    u = 0.00285714    sum = 1.08152381\n",
      "k = 4    u = 0.00077778    sum = 1.08230159\n",
      "k = 5    u = 0.00022909    sum = 1.08253068\n",
      "k = 6    u = 0.00007108    sum = 1.08260176\n",
      "k = 7    u = 0.00002288    sum = 1.08262464\n",
      "k = 8    u = 0.00000757    sum = 1.08263221\n",
      "k = 9    u = 0.00000256    sum = 1.08263476\n",
      "k = 10    u = 0.00000088    sum = 1.08263564\n",
      "k = 11    u = 0.00000031    sum = 1.08263595\n",
      "k = 12    u = 0.00000011    sum = 1.08263606\n",
      "k = 13    u = 0.00000004    sum = 1.08263610\n",
      "k = 14    u = 0.00000001    sum = 1.08263611\n",
      "k = 15    u = 0.00000001    sum = 1.08263612\n",
      "arccos(0.2) = 1.3694384023644983\n",
      "\n",
      "My function: 1.3694384023644983\n",
      "Built-in function: 1.369438406004566\n",
      "Their difference: 3.6400675806902427e-09\n"
     ]
    }
   ],
   "source": [
    "'''\n",
    "Computational Mathematics\n",
    "Lab №2\n",
    "# 1\n",
    "\n",
    "'''\n",
    "\n",
    "\n",
    "import math\n",
    "\n",
    "\n",
    "def double_factorial(n):\n",
    "    f = 1\n",
    "    start = 1\n",
    "    if n >= 1:\n",
    "        if n % 2 == 0:\n",
    "            start+=1\n",
    "        for i in range(start, n+1, 2):\n",
    "            f *= i\n",
    "    return f\n",
    "\n",
    "\n",
    "def arccos(x, e=1e-8):\n",
    "    if not -1 <= x <= 1:\n",
    "        raise ValueError('Arccos(x) can only be defined in range -1, 1')\n",
    "\n",
    "    z = (1-x)/4\n",
    "    u = 1\n",
    "    s = u\n",
    "\n",
    "    for k in range(1, 1000):\n",
    "        if not abs(u) < e:\n",
    "            u = (double_factorial(2*k-1) / math.factorial(k)) * (z**k / (2*k+1))\n",
    "            s += u\n",
    "            print(f'k = {k}    u = {u:.8f}    sum = {s:.8f}')\n",
    "        else:\n",
    "            s *= math.sqrt(2-2*x)\n",
    "            print(f'arccos({x}) = {s}')\n",
    "            return s\n",
    "\n",
    "\n",
    "x = float(input('x-> '))\n",
    "e = float(input('e-> '))\n",
    "\n",
    "acos1 = arccos(x, e)\n",
    "acos2 = math.acos(x)\n",
    "dif = abs(acos1-acos2)\n",
    "print('\\nMy function:', acos1)\n",
    "print('Built-in function:', acos2)\n",
    "print('Their difference:', dif)\n"
   ]
  },
  {
   "cell_type": "code",
   "execution_count": null,
   "metadata": {},
   "outputs": [],
   "source": []
  }
 ],
 "metadata": {
  "kernelspec": {
   "display_name": "Python 3",
   "language": "python",
   "name": "python3"
  },
  "language_info": {
   "codemirror_mode": {
    "name": "ipython",
    "version": 3
   },
   "file_extension": ".py",
   "mimetype": "text/x-python",
   "name": "python",
   "nbconvert_exporter": "python",
   "pygments_lexer": "ipython3",
   "version": "3.8.3"
  }
 },
 "nbformat": 4,
 "nbformat_minor": 4
}
