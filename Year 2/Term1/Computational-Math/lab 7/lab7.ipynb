{
 "cells": [
  {
   "cell_type": "code",
   "execution_count": 3,
   "metadata": {},
   "outputs": [
    {
     "data": {
      "image/png": "[encoded data removed]",
      "text/plain": [
       "<Figure size 432x288 with 1 Axes>"
      ]
     },
     "metadata": {
      "needs_background": "light"
     },
     "output_type": "display_data"
    },
    {
     "name": "stdout",
     "output_type": "stream",
     "text": [
      "f: 5.0000  f`: -669.8204  f``: -125.2198\n",
      "f: 7.5000  f`: -1756.0142  f``: -109.9696\n",
      "f: 8.7500  f`: -2699.1519  f``: -65.3475\n",
      "f: 9.3750  f`: -3300.3891  f``: -35.1237\n",
      "f: 9.6875  f`: -3637.0156  f``: -18.1601\n",
      "f: 9.8438  f`: -3814.7749  f``: -9.2280\n",
      "f: 9.9219  f`: -3906.0714  f``: -4.6508\n",
      "f: 9.9609  f`: -3952.3307  f``: -2.3346\n",
      "f: 9.9805  f`: -3975.6140  f``: -1.1696\n",
      "f: 9.9902  f`: -3987.2941  f``: -0.5854\n",
      "f: 9.9951  f`: -3993.1438  f``: -0.2928\n",
      "f: 9.9976  f`: -3996.0711  f``: -0.1464\n",
      "f: 9.9988  f`: -3997.5354  f``: -0.0732\n",
      "f: 9.9994  f`: -3998.2676  f``: -0.0366\n",
      "f: 9.9997  f`: -3998.6338  f``: -0.0183\n",
      "f: 9.9998  f`: -3998.8169  f``: -0.0092\n"
     ]
    }
   ],
   "source": [
    "import numpy as np\n",
    "import matplotlib.pyplot as plt\n",
    "\n",
    "\n",
    "def f(x, y):\n",
    "    return x - y - 4*x*y**2 * np.sqrt(x**2 + y**2)\n",
    "\n",
    "\n",
    "def df(x, y):\n",
    "    return (np.sqrt(x**2 + y**2) - 8*y**2*x**2 - 4*y**4) / np.sqrt(x**2 + y**2)\n",
    "\n",
    "\n",
    "def ddf(x, y):\n",
    "    return -((8*y**2*x**3 + 12*y**4*x) / (x**2 + y**2)**1.5)\n",
    "\n",
    "\n",
    "def bisection(a, b, y0=0, e=1e-4):\n",
    "    y = y0\n",
    "    xs = []\n",
    "    ys = []\n",
    "    if np.sign(f(a, y)) == np.sign(f(b, y)):\n",
    "        raise ValueError('f(a) and f(b) must have different signs')\n",
    "    f_a = f(a, y)\n",
    "    for i in range(1, 1000):\n",
    "        y += abs(b-a)\n",
    "        x = a + (b - a)/2\n",
    "        f_x = f(x, y)\n",
    "        xs.append(x)\n",
    "        ys.append(y)\n",
    "        if np.sign(f_a) == np.sign(f_x):\n",
    "            a = x\n",
    "        else:\n",
    "            b = x\n",
    "        if abs(b-a) > e:\n",
    "            continue\n",
    "        else:\n",
    "            x = a + (b-a)/2\n",
    "            return x, xs, ys\n",
    "\n",
    "\n",
    "bis, xs, ys = bisection(0, 5)\n",
    "\n",
    "x = np.arange(0, 5, 0.1)\n",
    "X, Y = np.meshgrid(x, x)\n",
    "F = Y**X\n",
    "G = X**Y\n",
    "plt.contour(X, Y, (F - G), [0])\n",
    "plt.show()\n",
    "\n",
    "_df = [df(xs[i], ys[i]) for i in range(len(ys))]\n",
    "_ddf = [ddf(xs[i], ys[i]) for i in range(len(ys))]\n",
    "\n",
    "for i in range(len(ys)):\n",
    "    print(f'f: {ys[i]:.4f}  f`: {_df[i]:.4f}  f``: {_ddf[i]:.4f}')"
   ]
  },
  {
   "cell_type": "code",
   "execution_count": null,
   "metadata": {},
   "outputs": [],
   "source": []
  }
 ],
 "metadata": {
  "kernelspec": {
   "display_name": "Python 3",
   "language": "python",
   "name": "python3"
  },
  "language_info": {
   "codemirror_mode": {
    "name": "ipython",
    "version": 3
   },
   "file_extension": ".py",
   "mimetype": "text/x-python",
   "name": "python",
   "nbconvert_exporter": "python",
   "pygments_lexer": "ipython3",
   "version": "3.8.3"
  }
 },
 "nbformat": 4,
 "nbformat_minor": 4
}
