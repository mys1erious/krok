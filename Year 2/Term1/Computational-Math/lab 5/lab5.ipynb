{
 "cells": [
  {
   "cell_type": "code",
   "execution_count": 1,
   "metadata": {},
   "outputs": [
    {
     "name": "stdout",
     "output_type": "stream",
     "text": [
      "i: 1    x: 1.26583375    d: 0.26583375\n",
      "i: 2    x: 1.49160133    d: 0.22576757\n",
      "i: 3    x: 1.65936153    d: 0.16776020\n",
      "i: 4    x: 1.77486949    d: 0.11550796\n",
      "i: 5    x: 1.85090444    d: 0.07603496\n",
      "i: 6    x: 1.89962184    d: 0.04871739\n",
      "i: 7    x: 1.93032871    d: 0.03070687\n",
      "i: 8    x: 1.94949085    d: 0.01916214\n",
      "i: 9    x: 1.96137574    d: 0.01188489\n",
      "i: 10    x: 1.96871948    d: 0.00734375\n",
      "i: 11    x: 1.97324681    d: 0.00452733\n",
      "i: 12    x: 1.97603391    d: 0.00278710\n",
      "i: 13    x: 1.97774821    d: 0.00171430\n",
      "i: 14    x: 1.97880209    d: 0.00105388\n",
      "i: 15    x: 1.97944976    d: 0.00064767\n",
      "i: 16    x: 1.97984771    d: 0.00039795\n",
      "i: 17    x: 1.98009219    d: 0.00024448\n",
      "i: 18    x: 1.98024238    d: 0.00015019\n",
      "i: 19    x: 1.98033464    d: 0.00009226\n",
      "1.9803346400160033\n",
      "Simple iteration result: 1.9803346400160033\n"
     ]
    }
   ],
   "source": [
    "import math\n",
    "\n",
    "\n",
    "def f(x):\n",
    "    return x**5 - 4*x**3 + (1.5*x) / (1+x**2)\n",
    "\n",
    "\n",
    "def g(x):\n",
    "    return (4*x**3 - (1.5*x) / (1+x**2)) ** (1/5)\n",
    "\n",
    "\n",
    "def simple_iteration(x_0, e):\n",
    "    x = x_0\n",
    "    for i in range(1, 1000):\n",
    "        x_prev = x\n",
    "        x=g(x)\n",
    "        d=x-x_prev\n",
    "        print(f'i: {i}    x: {x:.8f}    d: {d:.8f}')\n",
    "        if not abs(d) < e:\n",
    "            continue\n",
    "        else:\n",
    "            print(x)\n",
    "            return x\n",
    "\n",
    "\n",
    "x_0 = 1\n",
    "e = 1e-4\n",
    "\n",
    "s_i = simple_iteration(x_0, e)\n",
    "print('Simple iteration result:', s_i)"
   ]
  },
  {
   "cell_type": "code",
   "execution_count": null,
   "metadata": {},
   "outputs": [],
   "source": []
  }
 ],
 "metadata": {
  "kernelspec": {
   "display_name": "Python 3",
   "language": "python",
   "name": "python3"
  },
  "language_info": {
   "codemirror_mode": {
    "name": "ipython",
    "version": 3
   },
   "file_extension": ".py",
   "mimetype": "text/x-python",
   "name": "python",
   "nbconvert_exporter": "python",
   "pygments_lexer": "ipython3",
   "version": "3.8.3"
  }
 },
 "nbformat": 4,
 "nbformat_minor": 4
}
